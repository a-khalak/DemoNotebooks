{
 "cells": [
  {
   "cell_type": "markdown",
   "id": "dffad526",
   "metadata": {},
   "source": [
    "## Deriving e\n",
    "\n",
    "Bernoulli discovered e by taking the limit of compounded interest with a rate of return of 1.0 for an investment of 1.0 and a term of 1.0.\n",
    "\n",
    "$$ e = \\lim_{x\\rightarrow \\infty} \\left( 1 + \\frac{1}{x} \\right)^x $$"
   ]
  },
  {
   "cell_type": "code",
   "execution_count": 2,
   "id": "59a91b1a",
   "metadata": {},
   "outputs": [],
   "source": [
    "import numpy as np"
   ]
  },
  {
   "cell_type": "code",
   "execution_count": 7,
   "id": "1c2102d6",
   "metadata": {},
   "outputs": [],
   "source": [
    "import matplotlib.pyplot as plt"
   ]
  },
  {
   "cell_type": "code",
   "execution_count": 13,
   "id": "a9129ccb",
   "metadata": {},
   "outputs": [],
   "source": [
    "def val_with_x_payouts(x):\n",
    "    return (1 + 1/x)**x"
   ]
  },
  {
   "cell_type": "code",
   "execution_count": 3,
   "id": "8cef6029",
   "metadata": {},
   "outputs": [],
   "source": [
    "x = np.arange(1,100)"
   ]
  },
  {
   "cell_type": "code",
   "execution_count": 6,
   "id": "953f7d36",
   "metadata": {},
   "outputs": [],
   "source": [
    "val = [val_with_x_payouts(k) for k in x]"
   ]
  },
  {
   "cell_type": "code",
   "execution_count": 12,
   "id": "1591a245",
   "metadata": {},
   "outputs": [
    {
     "data": {
      "text/plain": [
       "(0.0, 130.0)"
      ]
     },
     "execution_count": 12,
     "metadata": {},
     "output_type": "execute_result"
    },
    {
     "data": {
      "image/png": "[encoded data removed]",
      "text/plain": [
       "<Figure size 576x576 with 1 Axes>"
      ]
     },
     "metadata": {
      "needs_background": "light"
     },
     "output_type": "display_data"
    }
   ],
   "source": [
    "plt.figure(figsize=(8,8))\n",
    "plt.plot(x,val, 'b.')\n",
    "plt.plot([0, 1000], [np.exp(1), np.exp(1)], 'r--')\n",
    "plt.xlabel('number of payout intervals')\n",
    "plt.ylabel('Total compounding')\n",
    "plt.xlim([0, 130])"
   ]
  },
  {
   "cell_type": "code",
   "execution_count": null,
   "id": "dbae6768",
   "metadata": {},
   "outputs": [],
   "source": []
  }
 ],
 "metadata": {
  "kernelspec": {
   "display_name": "Python 3 (ipykernel)",
   "language": "python",
   "name": "python3"
  },
  "language_info": {
   "codemirror_mode": {
    "name": "ipython",
    "version": 3
   },
   "file_extension": ".py",
   "mimetype": "text/x-python",
   "name": "python",
   "nbconvert_exporter": "python",
   "pygments_lexer": "ipython3",
   "version": "3.8.12"
  }
 },
 "nbformat": 4,
 "nbformat_minor": 5
}

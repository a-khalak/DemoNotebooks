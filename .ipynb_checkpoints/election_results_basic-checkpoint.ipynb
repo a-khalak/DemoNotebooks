{
 "cells": [
  {
   "cell_type": "markdown",
   "metadata": {},
   "source": [
    "San Mateo Open Data Example\n",
    "===========================\n",
    "\n",
    "### Data Details:  This comes from water sampling from San Mateo : https://dev.socrata.com/foundry/datahub.smcgov.org/4ss4-5dcw\n",
    "\n",
    "Collected Data from Surfer's Beach Rollup\n"
   ]
  },
  {
   "cell_type": "markdown",
   "metadata": {},
   "source": [
    "---\n",
    "\n",
    "### Library Imports"
   ]
  },
  {
   "cell_type": "code",
   "execution_count": 1,
   "metadata": {},
   "outputs": [],
   "source": [
    "# key DS library imports\n",
    "import numpy as np\n",
    "import pandas as pd\n",
    "import datetime\n",
    "import urllib\n"
   ]
  },
  {
   "cell_type": "code",
   "execution_count": 2,
   "metadata": {},
   "outputs": [],
   "source": [
    "# Visualization with altair\n",
    "import matplotlib.pyplot as plt"
   ]
  },
  {
   "cell_type": "markdown",
   "metadata": {},
   "source": [
    "This particular data set has the following REST endpoint: https://data.smcgov.org/resource/224p-x9qf.json\n",
    "\n"
   ]
  },
  {
   "cell_type": "code",
   "execution_count": 34,
   "metadata": {},
   "outputs": [],
   "source": [
    "# Socratta API query\n",
    "query = (\"https://datahub.smcgov.org/resource/4ss4-5dcw.json?\"\n",
    "         \"&$limit=10000\")"
   ]
  },
  {
   "cell_type": "code",
   "execution_count": 35,
   "metadata": {},
   "outputs": [],
   "source": [
    "raw_data = pd.read_json(query)"
   ]
  },
  {
   "cell_type": "markdown",
   "metadata": {},
   "source": [
    "---\n",
    "\n",
    "### Data Checkout\n"
   ]
  },
  {
   "cell_type": "code",
   "execution_count": 29,
   "metadata": {},
   "outputs": [
    {
     "data": {
      "text/html": [
       "<div>\n",
       "<style scoped>\n",
       "    .dataframe tbody tr th:only-of-type {\n",
       "        vertical-align: middle;\n",
       "    }\n",
       "\n",
       "    .dataframe tbody tr th {\n",
       "        vertical-align: top;\n",
       "    }\n",
       "\n",
       "    .dataframe thead th {\n",
       "        text-align: right;\n",
       "    }\n",
       "</style>\n",
       "<table border=\"1\" class=\"dataframe\">\n",
       "  <thead>\n",
       "    <tr style=\"text-align: right;\">\n",
       "      <th></th>\n",
       "      <th>site_id</th>\n",
       "      <th>site_name</th>\n",
       "      <th>site_type</th>\n",
       "      <th>enterolert_enterococci_rst</th>\n",
       "      <th>colilert_18_e_coli_rslt</th>\n",
       "      <th>colilert_18_total_coliform_rst</th>\n",
       "      <th>enterolert_enterococci_pst</th>\n",
       "      <th>colilert_18_e_coli_pst</th>\n",
       "      <th>colilert_18_total_coliform_pst</th>\n",
       "      <th>enterolert_enterococci_qfr</th>\n",
       "      <th>colilert_18_e_coli_qfr</th>\n",
       "      <th>colilert_18_total_coliform_qfr</th>\n",
       "      <th>location_address</th>\n",
       "      <th>location_city</th>\n",
       "      <th>location_state</th>\n",
       "      <th>location_zip</th>\n",
       "      <th>location</th>\n",
       "      <th>:@computed_region_i2t2_cryp</th>\n",
       "    </tr>\n",
       "  </thead>\n",
       "  <tbody>\n",
       "    <tr>\n",
       "      <th>0</th>\n",
       "      <td>AB41120</td>\n",
       "      <td>SURFERS BEACH</td>\n",
       "      <td>BEACH</td>\n",
       "      <td>10.0</td>\n",
       "      <td>10.0</td>\n",
       "      <td>10.0</td>\n",
       "      <td>N</td>\n",
       "      <td>N</td>\n",
       "      <td>N</td>\n",
       "      <td>&lt;</td>\n",
       "      <td>&lt;</td>\n",
       "      <td>&lt;</td>\n",
       "      <td>37 500956757039624</td>\n",
       "      <td></td>\n",
       "      <td></td>\n",
       "      <td></td>\n",
       "      <td>NaN</td>\n",
       "      <td>NaN</td>\n",
       "    </tr>\n",
       "    <tr>\n",
       "      <th>1</th>\n",
       "      <td>AB41120</td>\n",
       "      <td>SURFERS BEACH</td>\n",
       "      <td>BEACH</td>\n",
       "      <td>63.0</td>\n",
       "      <td>75.0</td>\n",
       "      <td>135.0</td>\n",
       "      <td>N</td>\n",
       "      <td>N</td>\n",
       "      <td>N</td>\n",
       "      <td>NaN</td>\n",
       "      <td>NaN</td>\n",
       "      <td>NaN</td>\n",
       "      <td>NaN</td>\n",
       "      <td>NaN</td>\n",
       "      <td>NaN</td>\n",
       "      <td>94019</td>\n",
       "      <td>{'type': 'Point', 'coordinates': [-122.4712841...</td>\n",
       "      <td>28590.0</td>\n",
       "    </tr>\n",
       "    <tr>\n",
       "      <th>2</th>\n",
       "      <td>AB41120</td>\n",
       "      <td>SURFERS BEACH</td>\n",
       "      <td>BEACH</td>\n",
       "      <td>10.0</td>\n",
       "      <td>10.0</td>\n",
       "      <td>63.0</td>\n",
       "      <td>N</td>\n",
       "      <td>N</td>\n",
       "      <td>N</td>\n",
       "      <td>&lt;</td>\n",
       "      <td>&lt;</td>\n",
       "      <td>NaN</td>\n",
       "      <td>NaN</td>\n",
       "      <td>NaN</td>\n",
       "      <td>NaN</td>\n",
       "      <td>94019</td>\n",
       "      <td>{'type': 'Point', 'coordinates': [-122.4712841...</td>\n",
       "      <td>28590.0</td>\n",
       "    </tr>\n",
       "    <tr>\n",
       "      <th>3</th>\n",
       "      <td>AB41120</td>\n",
       "      <td>SURFERS BEACH</td>\n",
       "      <td>BEACH</td>\n",
       "      <td>10.0</td>\n",
       "      <td>10.0</td>\n",
       "      <td>10.0</td>\n",
       "      <td>N</td>\n",
       "      <td>N</td>\n",
       "      <td>N</td>\n",
       "      <td>&lt;</td>\n",
       "      <td>&lt;</td>\n",
       "      <td>&lt;</td>\n",
       "      <td>NaN</td>\n",
       "      <td>NaN</td>\n",
       "      <td>NaN</td>\n",
       "      <td>94019</td>\n",
       "      <td>{'type': 'Point', 'coordinates': [-122.4712841...</td>\n",
       "      <td>28590.0</td>\n",
       "    </tr>\n",
       "    <tr>\n",
       "      <th>4</th>\n",
       "      <td>AB41120</td>\n",
       "      <td>SURFERS BEACH</td>\n",
       "      <td>BEACH</td>\n",
       "      <td>10.0</td>\n",
       "      <td>10.0</td>\n",
       "      <td>10.0</td>\n",
       "      <td>N</td>\n",
       "      <td>N</td>\n",
       "      <td>N</td>\n",
       "      <td>&lt;</td>\n",
       "      <td>&lt;</td>\n",
       "      <td>&lt;</td>\n",
       "      <td>NaN</td>\n",
       "      <td>NaN</td>\n",
       "      <td>NaN</td>\n",
       "      <td>94019</td>\n",
       "      <td>{'type': 'Point', 'coordinates': [-122.4712841...</td>\n",
       "      <td>28590.0</td>\n",
       "    </tr>\n",
       "  </tbody>\n",
       "</table>\n",
       "</div>"
      ],
      "text/plain": [
       "   site_id      site_name site_type  enterolert_enterococci_rst  \\\n",
       "0  AB41120  SURFERS BEACH     BEACH                        10.0   \n",
       "1  AB41120  SURFERS BEACH     BEACH                        63.0   \n",
       "2  AB41120  SURFERS BEACH     BEACH                        10.0   \n",
       "3  AB41120  SURFERS BEACH     BEACH                        10.0   \n",
       "4  AB41120  SURFERS BEACH     BEACH                        10.0   \n",
       "\n",
       "   colilert_18_e_coli_rslt  colilert_18_total_coliform_rst  \\\n",
       "0                     10.0                            10.0   \n",
       "1                     75.0                           135.0   \n",
       "2                     10.0                            63.0   \n",
       "3                     10.0                            10.0   \n",
       "4                     10.0                            10.0   \n",
       "\n",
       "  enterolert_enterococci_pst colilert_18_e_coli_pst  \\\n",
       "0                          N                      N   \n",
       "1                          N                      N   \n",
       "2                          N                      N   \n",
       "3                          N                      N   \n",
       "4                          N                      N   \n",
       "\n",
       "  colilert_18_total_coliform_pst enterolert_enterococci_qfr  \\\n",
       "0                              N                          <   \n",
       "1                              N                        NaN   \n",
       "2                              N                          <   \n",
       "3                              N                          <   \n",
       "4                              N                          <   \n",
       "\n",
       "  colilert_18_e_coli_qfr colilert_18_total_coliform_qfr    location_address  \\\n",
       "0                      <                              <  37 500956757039624   \n",
       "1                    NaN                            NaN                 NaN   \n",
       "2                      <                            NaN                 NaN   \n",
       "3                      <                              <                 NaN   \n",
       "4                      <                              <                 NaN   \n",
       "\n",
       "  location_city location_state location_zip  \\\n",
       "0                                             \n",
       "1           NaN            NaN        94019   \n",
       "2           NaN            NaN        94019   \n",
       "3           NaN            NaN        94019   \n",
       "4           NaN            NaN        94019   \n",
       "\n",
       "                                            location  \\\n",
       "0                                                NaN   \n",
       "1  {'type': 'Point', 'coordinates': [-122.4712841...   \n",
       "2  {'type': 'Point', 'coordinates': [-122.4712841...   \n",
       "3  {'type': 'Point', 'coordinates': [-122.4712841...   \n",
       "4  {'type': 'Point', 'coordinates': [-122.4712841...   \n",
       "\n",
       "   :@computed_region_i2t2_cryp  \n",
       "0                          NaN  \n",
       "1                      28590.0  \n",
       "2                      28590.0  \n",
       "3                      28590.0  \n",
       "4                      28590.0  "
      ]
     },
     "execution_count": 29,
     "metadata": {},
     "output_type": "execute_result"
    }
   ],
   "source": [
    "raw_data.head()"
   ]
  },
  {
   "cell_type": "markdown",
   "metadata": {},
   "source": [
    "---\n",
    "\n",
    "### Data Processing and Visualization\n"
   ]
  },
  {
   "cell_type": "code",
   "execution_count": 36,
   "metadata": {},
   "outputs": [
    {
     "data": {
      "text/plain": [
       "Text(0, 0.5, 'Counts')"
      ]
     },
     "execution_count": 36,
     "metadata": {},
     "output_type": "execute_result"
    },
    {
     "data": {
      "image/png": "[encoded data removed]",
      "text/plain": [
       "<Figure size 432x288 with 1 Axes>"
      ]
     },
     "metadata": {
      "needs_background": "light"
     },
     "output_type": "display_data"
    }
   ],
   "source": [
    "plt.hist(raw_data.enterolert_enterococci_rst, 20)\n",
    "plt.xlabel('Level of enterolert_enterococci_rst')\n",
    "plt.ylabel('Counts')"
   ]
  },
  {
   "cell_type": "code",
   "execution_count": 33,
   "metadata": {},
   "outputs": [
    {
     "data": {
      "text/plain": [
       "Text(0, 0.5, 'level of enterolert_enterococci_rst')"
      ]
     },
     "execution_count": 33,
     "metadata": {},
     "output_type": "execute_result"
    },
    {
     "data": {
      "image/png": "[encoded data removed]",
      "text/plain": [
       "<Figure size 432x288 with 1 Axes>"
      ]
     },
     "metadata": {
      "needs_background": "light"
     },
     "output_type": "display_data"
    }
   ],
   "source": [
    "plt.plot(raw_data.enterolert_enterococci_rst, 'x')\n",
    "plt.xlabel('data point number [week?]')\n",
    "plt.ylabel('level of enterolert_enterococci_rst')"
   ]
  },
  {
   "cell_type": "markdown",
   "metadata": {},
   "source": [
    "---\n",
    "\n",
    "Method and Notes\n",
    "================\n",
    "\n",
    "- The Socrata API docs presume that you understand how characters like spaces, dashes, etc., are translated into HTML friendly characters.  Therefore, the API requires things like `group=This%20is%20a%20test`\n",
    "\n",
    "\n",
    "The city of San Mateo has an [open data platform](https://data.smcgov.org/) in which it publishes its election rolls and many other items.  \n",
    "\n",
    "The goal of this notebook is both as a technology learning exercise and a demonstration and exploration of what can be done with this public data.  The technology aspect lies on several layers -- a part that is related to the interface with the external government server using the Socrata API, a part that is related to data analysis tooling that is apparent in the text of this notebook, and a third part that is a layer behind the ipython notebook -- see note below.  \n",
    "\n",
    "The Socrata API has been adopted by many government agencies at the municipal, state, and federal level.  It provides a more or less standardized way to access data via a REST endpoint.  There are SQL-like query facilities in the API.\n"
   ]
  },
  {
   "cell_type": "markdown",
   "metadata": {},
   "source": [
    "---\n",
    "\n",
    "### Information Retrieval\n",
    "\n",
    "The [Socrata API](https://dev.socrata.com/consumers/getting-started.html) is called \"SODA\" and has the following search terms:\n",
    "\n",
    "* limit - this is a limit on the number of rows collected with a max of 50k\n",
    "* offset - this is the starting row index, which is useful for paging\n",
    "* _any data column_ - can be used to subset the data with an equality filter\n",
    "* query - this can be used as a single string or as a piecemeal query as described [here](https://datahub.smcgov.org/resource/4ss4-5dcw.json)\n",
    "\n"
   ]
  },
  {
   "cell_type": "code",
   "execution_count": null,
   "metadata": {},
   "outputs": [],
   "source": []
  }
 ],
 "metadata": {
  "kernelspec": {
   "display_name": "Python 3 (ipykernel)",
   "language": "python",
   "name": "python3"
  },
  "language_info": {
   "codemirror_mode": {
    "name": "ipython",
    "version": 3
   },
   "file_extension": ".py",
   "mimetype": "text/x-python",
   "name": "python",
   "nbconvert_exporter": "python",
   "pygments_lexer": "ipython3",
   "version": "3.8.12"
  }
 },
 "nbformat": 4,
 "nbformat_minor": 4
}

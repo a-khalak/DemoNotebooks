{
 "cells": [
  {
   "cell_type": "markdown",
   "id": "e3bf44e0",
   "metadata": {},
   "source": [
    "## Deriving e\n",
    "\n",
    "Bernoulli discovered e by taking the limit of compounded interest with a rate of return of 100\\% for an investment principal amount of 1.0 and a term of 1.  Without compounding, the total return is 2, based on the following:\n",
    "\n",
    "$$ \\textrm{Principal} + \\textrm{interest on principal} = 1 + 1 = 2 $$\n",
    "\n",
    "However, as the number of payment periods goes up, the returns can be reinvested and the total payout at then end of the term can be bigger than 2.  For two periods, the payout is\n",
    "\n",
    "$$ \\textrm{Principal} + \\textrm{1st period interest on principal} +  \\textrm{2nd period interest on principal} + \\textrm{2nd period interest on 1st period interest} $$\n",
    "\n",
    "which can be computed as follows:\n",
    "\n",
    "$$ \\left( 1 + \\frac{1}{2} + \\frac{1}{2} + \\frac{1}{4} \\right) = 2.25  $$\n",
    "\n",
    "Note that this formula can be rewritten as an exponential\n",
    "\n",
    "$$ \\left( 1 + \\frac{1}{2} + \\frac{1}{2} + \\frac{1}{4} \\right) = \\left( 1 + \\frac{1}{2} \\right)^2  $$\n",
    "\n",
    "and in the limit of an infinite number of periods, this becomes\n",
    "\n",
    "$$ \\lim_{x\\rightarrow \\infty} \\left( 1 + \\frac{1}{x} \\right)^x  = e $$\n",
    "\n",
    "This defines the number $e$, which takes on the value of approximately 2.7183. "
   ]
  },
  {
   "cell_type": "code",
   "execution_count": 2,
   "id": "d7a22020",
   "metadata": {},
   "outputs": [],
   "source": [
    "import numpy as np"
   ]
  },
  {
   "cell_type": "code",
   "execution_count": 7,
   "id": "9d47749a",
   "metadata": {},
   "outputs": [],
   "source": [
    "import matplotlib.pyplot as plt"
   ]
  },
  {
   "cell_type": "code",
   "execution_count": 13,
   "id": "1e4b2ea4",
   "metadata": {},
   "outputs": [],
   "source": [
    "def val_with_x_payouts(x):\n",
    "    return (1 + 1/x)**x"
   ]
  },
  {
   "cell_type": "code",
   "execution_count": 16,
   "id": "cc1d6db7",
   "metadata": {},
   "outputs": [],
   "source": [
    "x = np.arange(1,500)"
   ]
  },
  {
   "cell_type": "code",
   "execution_count": 17,
   "id": "6a03bec6",
   "metadata": {},
   "outputs": [],
   "source": [
    "val = [val_with_x_payouts(k) for k in x]"
   ]
  },
  {
   "cell_type": "markdown",
   "id": "ba4a8857",
   "metadata": {},
   "source": [
    "The following shows a computation with an increasing number of payout intervals.  If this is a 1 year term, then the total value becomes fairly close to $e$ when payments are compounded bi-weekly, and a very good approximation when compounded daily. "
   ]
  },
  {
   "cell_type": "code",
   "execution_count": 20,
   "id": "99d0c119",
   "metadata": {},
   "outputs": [
    {
     "data": {
      "text/plain": [
       "(0.0, 365.0)"
      ]
     },
     "execution_count": 20,
     "metadata": {},
     "output_type": "execute_result"
    },
    {
     "data": {
      "image/png": "[encoded data removed]",
      "text/plain": [
       "<Figure size 576x576 with 1 Axes>"
      ]
     },
     "metadata": {
      "needs_background": "light"
     },
     "output_type": "display_data"
    }
   ],
   "source": [
    "plt.figure(figsize=(8,8))\n",
    "plt.plot(x,val, 'b.')\n",
    "plt.plot([0, 1000], [np.exp(1), np.exp(1)], 'r--')\n",
    "plt.xlabel('number of payout intervals')\n",
    "plt.ylabel('Total compounding')\n",
    "plt.xlim([0, 365])"
   ]
  },
  {
   "cell_type": "code",
   "execution_count": 21,
   "id": "5aa5c6d1",
   "metadata": {},
   "outputs": [
    {
     "data": {
      "text/plain": [
       "2.714577605160607"
      ]
     },
     "execution_count": 21,
     "metadata": {},
     "output_type": "execute_result"
    }
   ],
   "source": [
    "val[365]"
   ]
  },
  {
   "cell_type": "code",
   "execution_count": null,
   "id": "625c6b36",
   "metadata": {},
   "outputs": [],
   "source": []
  }
 ],
 "metadata": {
  "kernelspec": {
   "display_name": "Python 3 (ipykernel)",
   "language": "python",
   "name": "python3"
  },
  "language_info": {
   "codemirror_mode": {
    "name": "ipython",
    "version": 3
   },
   "file_extension": ".py",
   "mimetype": "text/x-python",
   "name": "python",
   "nbconvert_exporter": "python",
   "pygments_lexer": "ipython3",
   "version": "3.8.12"
  }
 },
 "nbformat": 4,
 "nbformat_minor": 5
}

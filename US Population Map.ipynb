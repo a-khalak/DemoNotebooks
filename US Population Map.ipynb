{
 "cells": [
  {
   "cell_type": "code",
   "execution_count": 50,
   "metadata": {
    "collapsed": true
   },
   "outputs": [
    {
     "name": "stdout",
     "output_type": "stream",
     "text": [
      "Collecting plotly\n",
      "\u001b[?25l  Downloading https://files.pythonhosted.org/packages/34/18/ef96260cb7a68cf613348cc7fe90efa4e32eaf23c46ade7032e6548e25a7/plotly-3.8.1-py2.py3-none-any.whl (41.2MB)\n",
      "\u001b[K    100% |████████████████████████████████| 41.2MB 901kB/s eta 0:00:01    51% |████████████████▌               | 21.3MB 7.9MB/s eta 0:00:03    53% |█████████████████               | 22.0MB 18.5MB/s eta 0:00:02    92% |█████████████████████████████▋  | 38.2MB 11.7MB/s eta 0:00:01\n",
      "\u001b[?25hRequirement already satisfied: nbformat>=4.2 in /opt/conda/lib/python3.6/site-packages (from plotly) (4.4.0)\n",
      "Collecting retrying>=1.3.3 (from plotly)\n",
      "  Downloading https://files.pythonhosted.org/packages/44/ef/beae4b4ef80902f22e3af073397f079c96969c69b2c7d52a57ea9ae61c9d/retrying-1.3.3.tar.gz\n",
      "Requirement already satisfied: requests in /opt/conda/lib/python3.6/site-packages (from plotly) (2.18.4)\n",
      "Requirement already satisfied: pytz in /opt/conda/lib/python3.6/site-packages (from plotly) (2018.4)\n",
      "Requirement already satisfied: six in /opt/conda/lib/python3.6/site-packages (from plotly) (1.11.0)\n",
      "Requirement already satisfied: decorator>=4.0.6 in /opt/conda/lib/python3.6/site-packages (from plotly) (4.3.0)\n",
      "Requirement already satisfied: traitlets>=4.1 in /opt/conda/lib/python3.6/site-packages (from nbformat>=4.2->plotly) (4.3.2)\n",
      "Requirement already satisfied: jupyter-core in /opt/conda/lib/python3.6/site-packages (from nbformat>=4.2->plotly) (4.4.0)\n",
      "Requirement already satisfied: jsonschema!=2.5.0,>=2.4 in /opt/conda/lib/python3.6/site-packages (from nbformat>=4.2->plotly) (2.6.0)\n",
      "Requirement already satisfied: ipython-genutils in /opt/conda/lib/python3.6/site-packages (from nbformat>=4.2->plotly) (0.2.0)\n",
      "Requirement already satisfied: chardet<3.1.0,>=3.0.2 in /opt/conda/lib/python3.6/site-packages (from requests->plotly) (3.0.4)\n",
      "Requirement already satisfied: idna<2.7,>=2.5 in /opt/conda/lib/python3.6/site-packages (from requests->plotly) (2.6)\n",
      "Requirement already satisfied: urllib3<1.23,>=1.21.1 in /opt/conda/lib/python3.6/site-packages (from requests->plotly) (1.22)\n",
      "Requirement already satisfied: certifi>=2017.4.17 in /opt/conda/lib/python3.6/site-packages (from requests->plotly) (2018.4.16)\n",
      "Building wheels for collected packages: retrying\n",
      "  Running setup.py bdist_wheel for retrying ... \u001b[?25ldone\n",
      "\u001b[?25h  Stored in directory: /home/jovyan/.cache/pip/wheels/d7/a9/33/acc7b709e2a35caa7d4cae442f6fe6fbf2c43f80823d46460c\n",
      "Successfully built retrying\n",
      "\u001b[31mpyspark 2.3.0 requires py4j==0.10.6, which is not installed.\u001b[0m\n",
      "Installing collected packages: retrying, plotly\n",
      "Successfully installed plotly-3.8.1 retrying-1.3.3\n",
      "\u001b[33mYou are using pip version 10.0.1, however version 19.0.3 is available.\n",
      "You should consider upgrading via the 'pip install --upgrade pip' command.\u001b[0m\n"
     ]
    }
   ],
   "source": [
    "!pip install plotly"
   ]
  },
  {
   "cell_type": "code",
   "execution_count": 154,
   "metadata": {
    "collapsed": true
   },
   "outputs": [
    {
     "name": "stdout",
     "output_type": "stream",
     "text": [
      "Collecting wikipedia\n",
      "  Downloading https://files.pythonhosted.org/packages/67/35/25e68fbc99e672127cc6fbb14b8ec1ba3dfef035bf1e4c90f78f24a80b7d/wikipedia-1.4.0.tar.gz\n",
      "Requirement already satisfied: beautifulsoup4 in /opt/conda/lib/python3.6/site-packages (from wikipedia) (4.6.0)\n",
      "Requirement already satisfied: requests<3.0.0,>=2.0.0 in /opt/conda/lib/python3.6/site-packages (from wikipedia) (2.18.4)\n",
      "Requirement already satisfied: chardet<3.1.0,>=3.0.2 in /opt/conda/lib/python3.6/site-packages (from requests<3.0.0,>=2.0.0->wikipedia) (3.0.4)\n",
      "Requirement already satisfied: idna<2.7,>=2.5 in /opt/conda/lib/python3.6/site-packages (from requests<3.0.0,>=2.0.0->wikipedia) (2.6)\n",
      "Requirement already satisfied: urllib3<1.23,>=1.21.1 in /opt/conda/lib/python3.6/site-packages (from requests<3.0.0,>=2.0.0->wikipedia) (1.22)\n",
      "Requirement already satisfied: certifi>=2017.4.17 in /opt/conda/lib/python3.6/site-packages (from requests<3.0.0,>=2.0.0->wikipedia) (2018.4.16)\n",
      "Building wheels for collected packages: wikipedia\n",
      "  Running setup.py bdist_wheel for wikipedia ... \u001b[?25ldone\n",
      "\u001b[?25h  Stored in directory: /home/jovyan/.cache/pip/wheels/87/2a/18/4e471fd96d12114d16fe4a446d00c3b38fb9efcb744bd31f4a\n",
      "Successfully built wikipedia\n",
      "\u001b[31mpyspark 2.3.0 requires py4j==0.10.6, which is not installed.\u001b[0m\n",
      "Installing collected packages: wikipedia\n",
      "Successfully installed wikipedia-1.4.0\n",
      "\u001b[33mYou are using pip version 10.0.1, however version 19.0.3 is available.\n",
      "You should consider upgrading via the 'pip install --upgrade pip' command.\u001b[0m\n"
     ]
    }
   ],
   "source": [
    "!pip install wikipedia"
   ]
  },
  {
   "cell_type": "code",
   "execution_count": 156,
   "metadata": {},
   "outputs": [],
   "source": [
    "import pandas as pd\n",
    "import requests"
   ]
  },
  {
   "cell_type": "code",
   "execution_count": 1,
   "metadata": {},
   "outputs": [],
   "source": [
    "import wikipedia as wp"
   ]
  },
  {
   "cell_type": "markdown",
   "metadata": {},
   "source": [
    "## Load the data and simple cleaning"
   ]
  },
  {
   "cell_type": "code",
   "execution_count": 158,
   "metadata": {},
   "outputs": [
    {
     "data": {
      "text/html": [
       "<div>\n",
       "<style scoped>\n",
       "    .dataframe tbody tr th:only-of-type {\n",
       "        vertical-align: middle;\n",
       "    }\n",
       "\n",
       "    .dataframe tbody tr th {\n",
       "        vertical-align: top;\n",
       "    }\n",
       "\n",
       "    .dataframe thead th {\n",
       "        text-align: right;\n",
       "    }\n",
       "</style>\n",
       "<table border=\"1\" class=\"dataframe\">\n",
       "  <thead>\n",
       "    <tr style=\"text-align: right;\">\n",
       "      <th></th>\n",
       "      <th>0</th>\n",
       "      <th>1</th>\n",
       "      <th>2</th>\n",
       "      <th>3</th>\n",
       "      <th>4</th>\n",
       "      <th>5</th>\n",
       "      <th>6</th>\n",
       "      <th>7</th>\n",
       "      <th>8</th>\n",
       "      <th>9</th>\n",
       "      <th>10</th>\n",
       "    </tr>\n",
       "  </thead>\n",
       "  <tbody>\n",
       "    <tr>\n",
       "      <th>0</th>\n",
       "      <td>Rank in the fifty states, 2018</td>\n",
       "      <td>Rank in states &amp; territories</td>\n",
       "      <td>Name</td>\n",
       "      <td>Population estimate, July 1, 2018[5]</td>\n",
       "      <td>Census population, April 1, 2010[6]</td>\n",
       "      <td>Percent increase from 2010-2018[note 1]</td>\n",
       "      <td>Total seats in the U.S. House of Representativ...</td>\n",
       "      <td>Estimated population per electoral vote, 2018[...</td>\n",
       "      <td>Estimated population per House seat, 2018</td>\n",
       "      <td>Census population per House seat, 2010</td>\n",
       "      <td>Percent of the total U.S. population, 2018[not...</td>\n",
       "    </tr>\n",
       "    <tr>\n",
       "      <th>1</th>\n",
       "      <td>1</td>\n",
       "      <td>1</td>\n",
       "      <td>California</td>\n",
       "      <td>39557045</td>\n",
       "      <td>37254523</td>\n",
       "      <td>6.2%</td>\n",
       "      <td>53</td>\n",
       "      <td>719219</td>\n",
       "      <td>746359</td>\n",
       "      <td>702885</td>\n",
       "      <td>11.96%</td>\n",
       "    </tr>\n",
       "    <tr>\n",
       "      <th>2</th>\n",
       "      <td>2</td>\n",
       "      <td>2</td>\n",
       "      <td>Texas</td>\n",
       "      <td>28701845</td>\n",
       "      <td>25145561</td>\n",
       "      <td>14.1%</td>\n",
       "      <td>36</td>\n",
       "      <td>755312</td>\n",
       "      <td>797273</td>\n",
       "      <td>698503</td>\n",
       "      <td>8.68%</td>\n",
       "    </tr>\n",
       "    <tr>\n",
       "      <th>3</th>\n",
       "      <td>3</td>\n",
       "      <td>3</td>\n",
       "      <td>Florida</td>\n",
       "      <td>21299325</td>\n",
       "      <td>18801310</td>\n",
       "      <td>13.3%</td>\n",
       "      <td>27</td>\n",
       "      <td>734459</td>\n",
       "      <td>788864</td>\n",
       "      <td>696468</td>\n",
       "      <td>6.44%</td>\n",
       "    </tr>\n",
       "    <tr>\n",
       "      <th>4</th>\n",
       "      <td>4</td>\n",
       "      <td>4</td>\n",
       "      <td>New York</td>\n",
       "      <td>19542209</td>\n",
       "      <td>19378102</td>\n",
       "      <td>0.8%</td>\n",
       "      <td>27</td>\n",
       "      <td>673869</td>\n",
       "      <td>723786</td>\n",
       "      <td>717707</td>\n",
       "      <td>5.91%</td>\n",
       "    </tr>\n",
       "  </tbody>\n",
       "</table>\n",
       "</div>"
      ],
      "text/plain": [
       "                               0                             1           2   \\\n",
       "0  Rank in the fifty states, 2018  Rank in states & territories        Name   \n",
       "1                               1                             1  California   \n",
       "2                               2                             2       Texas   \n",
       "3                               3                             3     Florida   \n",
       "4                               4                             4    New York   \n",
       "\n",
       "                                     3                                    4   \\\n",
       "0  Population estimate, July 1, 2018[5]  Census population, April 1, 2010[6]   \n",
       "1                              39557045                             37254523   \n",
       "2                              28701845                             25145561   \n",
       "3                              21299325                             18801310   \n",
       "4                              19542209                             19378102   \n",
       "\n",
       "                                        5   \\\n",
       "0  Percent increase from 2010-2018[note 1]   \n",
       "1                                     6.2%   \n",
       "2                                    14.1%   \n",
       "3                                    13.3%   \n",
       "4                                     0.8%   \n",
       "\n",
       "                                                  6   \\\n",
       "0  Total seats in the U.S. House of Representativ...   \n",
       "1                                                 53   \n",
       "2                                                 36   \n",
       "3                                                 27   \n",
       "4                                                 27   \n",
       "\n",
       "                                                  7   \\\n",
       "0  Estimated population per electoral vote, 2018[...   \n",
       "1                                             719219   \n",
       "2                                             755312   \n",
       "3                                             734459   \n",
       "4                                             673869   \n",
       "\n",
       "                                          8   \\\n",
       "0  Estimated population per House seat, 2018   \n",
       "1                                     746359   \n",
       "2                                     797273   \n",
       "3                                     788864   \n",
       "4                                     723786   \n",
       "\n",
       "                                       9   \\\n",
       "0  Census population per House seat, 2010   \n",
       "1                                  702885   \n",
       "2                                  698503   \n",
       "3                                  696468   \n",
       "4                                  717707   \n",
       "\n",
       "                                                  10  \n",
       "0  Percent of the total U.S. population, 2018[not...  \n",
       "1                                             11.96%  \n",
       "2                                              8.68%  \n",
       "3                                              6.44%  \n",
       "4                                              5.91%  "
      ]
     },
     "execution_count": 158,
     "metadata": {},
     "output_type": "execute_result"
    }
   ],
   "source": [
    "#Get the html source\n",
    "html = wp.page(\"List of states and territories of the United States by population\").html().encode(\"UTF-8\")\n",
    "df = pd.read_html(html)[0]\n",
    "df.head()"
   ]
  },
  {
   "cell_type": "code",
   "execution_count": 177,
   "metadata": {},
   "outputs": [],
   "source": [
    "dat = df\n",
    "#dat.state_name = dat.state_name.str.strip()\n",
    "dat.columns = dat.iloc[0].values.flatten().tolist()\n",
    "dat = dat.drop([0], axis=0)\n",
    "dat.rename(columns = {'Name': 'state_name', 'Population estimate, July 1, 2018[5]' : 'population_2018', \n",
    "                     'Census population, April 1, 2010[6]' : 'population_2010', \n",
    "                     'Percent increase from 2010-2018[note 1]': 'percent_increase'}, inplace=True)\n",
    "dat.population_2018 = dat.population_2018.apply(lambda x : int(x.replace(',','').split('[')[0]))\n",
    "dat.population_2010 = dat.population_2010.apply(lambda x : int(x.replace(',','').split('[')[0]))\n",
    "dat.percent_increase = dat.percent_increase.apply(lambda x : float(x.replace('%','')))"
   ]
  },
  {
   "cell_type": "code",
   "execution_count": 178,
   "metadata": {},
   "outputs": [],
   "source": [
    "codes = pd.read_csv('state_codes.csv')\n",
    "dat = dat.merge(codes, how='left')"
   ]
  },
  {
   "cell_type": "code",
   "execution_count": 174,
   "metadata": {},
   "outputs": [
    {
     "data": {
      "text/plain": [
       "Rank in the fifty states, 2018                                   object\n",
       "Rank in states & territories                                     object\n",
       "state_name                                                       object\n",
       "population_2018                                                   int64\n",
       "population_2010                                                   int64\n",
       "percent_increase                                                 object\n",
       "Total seats in the U.S. House of Representatives, 2013â2023    object\n",
       "Estimated population per electoral vote, 2018[note 2]            object\n",
       "Estimated population per House seat, 2018                        object\n",
       "Census population per House seat, 2010                           object\n",
       "Percent of the total U.S. population, 2018[note 3]               object\n",
       "dtype: object"
      ]
     },
     "execution_count": 174,
     "metadata": {},
     "output_type": "execute_result"
    }
   ],
   "source": [
    "dat.dtypes"
   ]
  },
  {
   "cell_type": "code",
   "execution_count": 188,
   "metadata": {},
   "outputs": [],
   "source": [
    "dat = dat.loc[dat.state_code.isnull() == False]\n"
   ]
  },
  {
   "cell_type": "markdown",
   "metadata": {},
   "source": [
    "## Visualization "
   ]
  },
  {
   "cell_type": "code",
   "execution_count": 180,
   "metadata": {},
   "outputs": [
    {
     "data": {
      "text/html": [
       "        <script type=\"text/javascript\">\n",
       "        window.PlotlyConfig = {MathJaxConfig: 'local'};\n",
       "        if (window.MathJax) {MathJax.Hub.Config({SVG: {font: \"STIX-Web\"}});}\n",
       "        if (typeof require !== 'undefined') {\n",
       "        require.undef(\"plotly\");\n",
       "        requirejs.config({\n",
       "            paths: {\n",
       "                'plotly': ['https://cdn.plot.ly/plotly-latest.min']\n",
       "            }\n",
       "        });\n",
       "        require(['plotly'], function(Plotly) {\n",
       "            window._Plotly = Plotly;\n",
       "        });\n",
       "        }\n",
       "        </script>\n",
       "        "
      ]
     },
     "metadata": {},
     "output_type": "display_data"
    }
   ],
   "source": [
    "import plotly.offline as py\n",
    "py.init_notebook_mode(connected=True)"
   ]
  },
  {
   "cell_type": "markdown",
   "metadata": {},
   "source": [
    "This is a US map with growth per state colored"
   ]
  },
  {
   "cell_type": "code",
   "execution_count": 208,
   "metadata": {
    "scrolled": true
   },
   "outputs": [
    {
     "data": {
      "text/plain": [
       "'d3-cloropleth-map.html'"
      ]
     },
     "execution_count": 208,
     "metadata": {},
     "output_type": "execute_result"
    }
   ],
   "source": [
    "dat_grow = dat.loc[dat.percent_increase >-5]\n",
    "#dat_grow = dat\n",
    "import plotly.graph_objs as go\n",
    "\n",
    "scl = [\n",
    "    [0.0, 'rgb(242,240,247)'],\n",
    "    [0.2, 'rgb(218,218,235)'],\n",
    "    [0.4, 'rgb(188,189,220)'],\n",
    "    [0.6, 'rgb(158,154,200)'],\n",
    "    [0.8, 'rgb(117,107,177)'],\n",
    "    [1.0, 'rgb(84,39,143)']\n",
    "]\n",
    "\n",
    "data = [go.Choropleth(\n",
    "    colorscale = scl,\n",
    "    autocolorscale = False,\n",
    "    locations = dat_grow['state_code'],\n",
    "    z = dat_grow.percent_increase.astype(float),\n",
    "#    z = dat_grow.population_2018 - dat_grow.population_2010,\n",
    "    locationmode = 'USA-states',\n",
    "    text = dat_grow['state_name'],\n",
    "    marker = go.choropleth.Marker(\n",
    "        line = go.choropleth.marker.Line(\n",
    "            color = 'rgb(255,255,255)',\n",
    "            width = 2\n",
    "        )),\n",
    "    colorbar = go.choropleth.ColorBar(\n",
    "        title = \"% increase\")\n",
    "#        title = \"Numerical increase\")\n",
    ")]\n",
    "\n",
    "layout = go.Layout(\n",
    "    title = go.layout.Title(\n",
    "        text = 'Population Change'\n",
    "    ),\n",
    "    geo = go.layout.Geo(\n",
    "        scope = 'usa',\n",
    "        projection = go.layout.geo.Projection(type = 'albers usa'),\n",
    "        showlakes = True,\n",
    "        lakecolor = 'rgb(255, 255, 255)'),\n",
    ")\n",
    "\n",
    "fig3 = go.Figure(data = data, layout = layout)\n",
    "py.plot(fig3, filename = 'd3-cloropleth-map.html')"
   ]
  },
  {
   "cell_type": "markdown",
   "metadata": {},
   "source": [
    "This is a per state breakdown of 2010 and 2018 data"
   ]
  },
  {
   "cell_type": "code",
   "execution_count": 206,
   "metadata": {},
   "outputs": [],
   "source": [
    "import math\n",
    "fig = {\n",
    "    'data': [\n",
    "  \t\t{\n",
    "  \t\t\t'x': dat.state_name, \n",
    "        \t'y': dat.population_2018, \n",
    "        \t'text': dat.state_name, \n",
    "        \t'mode': 'markers',\n",
    "            'marker': {\n",
    "                'color' : 'green'\n",
    "            },\n",
    "        \t'name': 'population2018'},\n",
    "  \t\t\t{'x': dat.state_name, \n",
    "        \t'y': dat.population_2010, \n",
    "        \t'text': dat.state_name, \n",
    "        \t'mode': 'markers', \n",
    "            'marker': {\n",
    "                'color' : 'red'\n",
    "            },\n",
    "        \t'name': 'population2010'}        \n",
    "    ],\n",
    "    'layout': {\n",
    "        'xaxis': {'title': 'State name'},\n",
    "        'yaxis': {'title': \"population\", 'range': [0, 4.2e7]}\n",
    "    }\n",
    "}\n",
    "\n",
    "# IPython notebook\n",
    "# py.iplot(fig, filename='pandas/multiple-scatter')\n",
    "\n",
    "url = py.plot(fig, filename = 'population.html')"
   ]
  },
  {
   "cell_type": "code",
   "execution_count": null,
   "metadata": {},
   "outputs": [],
   "source": []
  }
 ],
 "metadata": {
  "kernelspec": {
   "display_name": "Python 3",
   "language": "python",
   "name": "python3"
  },
  "language_info": {
   "codemirror_mode": {
    "name": "ipython",
    "version": 3
   },
   "file_extension": ".py",
   "mimetype": "text/x-python",
   "name": "python",
   "nbconvert_exporter": "python",
   "pygments_lexer": "ipython3",
   "version": "3.6.5"
  }
 },
 "nbformat": 4,
 "nbformat_minor": 2
}

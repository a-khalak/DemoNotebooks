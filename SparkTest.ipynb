{
 "cells": [
  {
   "cell_type": "code",
   "execution_count": 1,
   "id": "359c5637-b89b-489a-88a1-a3807a637ce8",
   "metadata": {},
   "outputs": [],
   "source": [
    "import pandas as pd"
   ]
  },
  {
   "cell_type": "code",
   "execution_count": 2,
   "id": "3c281eca-74cb-4205-bdd2-672ca677930b",
   "metadata": {},
   "outputs": [],
   "source": [
    "import pyspark\n",
    "from pyspark.sql import SparkSession, DataFrame"
   ]
  },
  {
   "cell_type": "code",
   "execution_count": 3,
   "id": "acbd3b3a-dc55-45da-ad6b-1ae9a9df6d37",
   "metadata": {},
   "outputs": [
    {
     "name": "stdout",
     "output_type": "stream",
     "text": [
      "3.8.16\n"
     ]
    }
   ],
   "source": [
    "from platform import python_version\n",
    "print (python_version())"
   ]
  },
  {
   "cell_type": "code",
   "execution_count": 4,
   "id": "cb9b1a8a-6ba9-4c55-a3ea-9c4dc08195d9",
   "metadata": {},
   "outputs": [
    {
     "name": "stderr",
     "output_type": "stream",
     "text": [
      "Setting default log level to \"WARN\".\n",
      "To adjust logging level use sc.setLogLevel(newLevel). For SparkR, use setLogLevel(newLevel).\n",
      "23/06/02 08:37:31 WARN NativeCodeLoader: Unable to load native-hadoop library for your platform... using builtin-java classes where applicable\n"
     ]
    }
   ],
   "source": [
    "spark = SparkSession.builder.master(\"spark://New-Elephant:7077\").appName(\"Test\").getOrCreate()"
   ]
  },
  {
   "cell_type": "code",
   "execution_count": 5,
   "id": "8632efc1-4b37-45a1-9650-fd0628c9c738",
   "metadata": {},
   "outputs": [],
   "source": [
    "import numpy as np"
   ]
  },
  {
   "cell_type": "code",
   "execution_count": 6,
   "id": "c5a6a5ee-5afc-412d-b6a2-aa50fde3160c",
   "metadata": {},
   "outputs": [],
   "source": [
    "x = np.arange(0,1000,0.3)\n",
    "y = x*3"
   ]
  },
  {
   "cell_type": "code",
   "execution_count": 7,
   "id": "e061bb1b-6056-4735-95ac-5147346eca84",
   "metadata": {},
   "outputs": [],
   "source": [
    "XX =pd.DataFrame.from_dict({'x': x, 'y':y})"
   ]
  },
  {
   "cell_type": "code",
   "execution_count": 8,
   "id": "06d52180-68da-4e9f-8509-e48421fe6e7f",
   "metadata": {},
   "outputs": [],
   "source": [
    "import matplotlib.pyplot as plt"
   ]
  },
  {
   "cell_type": "code",
   "execution_count": 9,
   "id": "4c53c204-992a-4d8b-b592-1d41e13f68ec",
   "metadata": {},
   "outputs": [],
   "source": [
    "SX = spark.createDataFrame(XX)"
   ]
  },
  {
   "cell_type": "code",
   "execution_count": 10,
   "id": "b871be03-8b47-4c09-8fe6-aba03ae1ab7a",
   "metadata": {},
   "outputs": [
    {
     "name": "stderr",
     "output_type": "stream",
     "text": [
      "                                                                                \r"
     ]
    },
    {
     "data": {
      "text/plain": [
       "[Row(x=0.0, y=0.0),\n",
       " Row(x=0.3, y=0.8999999999999999),\n",
       " Row(x=0.6, y=1.7999999999999998),\n",
       " Row(x=0.8999999999999999, y=2.6999999999999997),\n",
       " Row(x=1.2, y=3.5999999999999996)]"
      ]
     },
     "execution_count": 10,
     "metadata": {},
     "output_type": "execute_result"
    }
   ],
   "source": [
    "SX.head(5)"
   ]
  },
  {
   "cell_type": "code",
   "execution_count": 15,
   "id": "7289f00e-8d4a-474d-bbe9-02afd6aa17ac",
   "metadata": {},
   "outputs": [],
   "source": [
    "workdir = '/Users/asif/work/scratch/'"
   ]
  },
  {
   "cell_type": "code",
   "execution_count": 16,
   "id": "9b77c41b-5682-4bec-9b92-ec4cd65e93f5",
   "metadata": {},
   "outputs": [
    {
     "name": "stderr",
     "output_type": "stream",
     "text": [
      "                                                                                \r"
     ]
    }
   ],
   "source": [
    "SX.write.mode('overwrite').parquet(workdir+'test')"
   ]
  },
  {
   "cell_type": "code",
   "execution_count": 18,
   "id": "680495e1-133a-4719-b4e4-f32cdd607751",
   "metadata": {},
   "outputs": [],
   "source": [
    "XX2 = spark.read.parquet(workdir+'test').toPandas()"
   ]
  },
  {
   "cell_type": "code",
   "execution_count": 20,
   "id": "cdc84c54-7914-4328-aef4-34e04ae8d341",
   "metadata": {},
   "outputs": [
    {
     "data": {
      "text/plain": [
       "0.0"
      ]
     },
     "execution_count": 20,
     "metadata": {},
     "output_type": "execute_result"
    }
   ],
   "source": [
    "sum(XX.x - XX2.x)"
   ]
  },
  {
   "cell_type": "code",
   "execution_count": null,
   "id": "116f79a3-9b51-4597-81aa-9d4b00fca539",
   "metadata": {},
   "outputs": [],
   "source": []
  }
 ],
 "metadata": {
  "kernelspec": {
   "display_name": "analysis",
   "language": "python",
   "name": "analysis"
  },
  "language_info": {
   "codemirror_mode": {
    "name": "ipython",
    "version": 3
   },
   "file_extension": ".py",
   "mimetype": "text/x-python",
   "name": "python",
   "nbconvert_exporter": "python",
   "pygments_lexer": "ipython3",
   "version": "3.8.16"
  }
 },
 "nbformat": 4,
 "nbformat_minor": 5
}

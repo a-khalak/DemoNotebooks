{
 "cells": [
  {
   "cell_type": "markdown",
   "id": "3bd02e54-c090-40a5-b57c-900cf7f12309",
   "metadata": {},
   "source": [
    "# Google API test for access to google sheets"
   ]
  },
  {
   "cell_type": "code",
   "execution_count": 1,
   "id": "a61f5b85-4f49-40bf-bc88-35c525a99c66",
   "metadata": {},
   "outputs": [],
   "source": [
    "import os\n",
    "home_directory = os.path.expanduser(\"~\")\n",
    "goog_auth_file = \"{}/secrets/modeling-general-data-a9fa2233aed5.json\".format(home_directory)\n",
    "spreadsheet_id =\"12froVqa4mGoqglbnZyr_UY8CGl6Oxm_swMZyuh_YmdQ\"\n",
    "do_base =False"
   ]
  },
  {
   "cell_type": "markdown",
   "id": "196e8869-1dd1-4d7d-93ce-ea0a185e9533",
   "metadata": {},
   "source": [
    "## Using gspread"
   ]
  },
  {
   "cell_type": "code",
   "execution_count": 2,
   "id": "027efaa5-038f-4c37-9b89-6b65d917f2ec",
   "metadata": {},
   "outputs": [],
   "source": [
    "import gspread as gs\n",
    "import pandas as pd"
   ]
  },
  {
   "cell_type": "code",
   "execution_count": 3,
   "id": "d5c860ec-15cc-49b2-b81e-165122083325",
   "metadata": {},
   "outputs": [],
   "source": [
    "gc = gs.service_account(filename=goog_auth_file)\n",
    "sheet = gc.open_by_key(spreadsheet_id)\n",
    "worksheet = sheet.get_worksheet(0)"
   ]
  },
  {
   "cell_type": "code",
   "execution_count": 4,
   "id": "981ee684-9104-4e2b-9704-65d02081715b",
   "metadata": {},
   "outputs": [],
   "source": [
    "df = pd.DataFrame(worksheet.get_all_records())"
   ]
  },
  {
   "cell_type": "code",
   "execution_count": 5,
   "id": "9cf8e8ac-df1f-4370-a525-213e089cadf2",
   "metadata": {},
   "outputs": [
    {
     "data": {
      "text/html": [
       "<div>\n",
       "<style scoped>\n",
       "    .dataframe tbody tr th:only-of-type {\n",
       "        vertical-align: middle;\n",
       "    }\n",
       "\n",
       "    .dataframe tbody tr th {\n",
       "        vertical-align: top;\n",
       "    }\n",
       "\n",
       "    .dataframe thead th {\n",
       "        text-align: right;\n",
       "    }\n",
       "</style>\n",
       "<table border=\"1\" class=\"dataframe\">\n",
       "  <thead>\n",
       "    <tr style=\"text-align: right;\">\n",
       "      <th></th>\n",
       "      <th>Case</th>\n",
       "      <th>Param1</th>\n",
       "      <th>Param2</th>\n",
       "    </tr>\n",
       "  </thead>\n",
       "  <tbody>\n",
       "    <tr>\n",
       "      <th>0</th>\n",
       "      <td>1</td>\n",
       "      <td>1</td>\n",
       "      <td>1</td>\n",
       "    </tr>\n",
       "    <tr>\n",
       "      <th>1</th>\n",
       "      <td>2</td>\n",
       "      <td>1</td>\n",
       "      <td>2</td>\n",
       "    </tr>\n",
       "  </tbody>\n",
       "</table>\n",
       "</div>"
      ],
      "text/plain": [
       "   Case  Param1  Param2\n",
       "0     1       1       1\n",
       "1     2       1       2"
      ]
     },
     "execution_count": 5,
     "metadata": {},
     "output_type": "execute_result"
    }
   ],
   "source": [
    "df.head()"
   ]
  },
  {
   "cell_type": "markdown",
   "id": "d66f3f32-59c5-42d8-8e17-daa6901f42c0",
   "metadata": {},
   "source": [
    "## Base google libraries"
   ]
  },
  {
   "cell_type": "code",
   "execution_count": 7,
   "id": "a2427700-06a4-483e-ae46-018018db6152",
   "metadata": {},
   "outputs": [],
   "source": [
    "if do_base:\n",
    "    from google.oauth2 import service_account\n",
    "    from googleapiclient.discovery import build\n",
    "    \n",
    "    credentials = service_account.Credentials.from_service_account_file(\n",
    "        goog_auth_file,\n",
    "        scopes=[\"https://www.googleapis.com/auth/spreadsheets\"])\n",
    "    service = build(\"sheets\", \"v4\", credentials=credentials)"
   ]
  },
  {
   "cell_type": "code",
   "execution_count": 8,
   "id": "3d2cd17a-af33-4e84-a63a-eb47142356ff",
   "metadata": {},
   "outputs": [],
   "source": [
    "if do_base:\n",
    "    request = service.spreadsheets().get(spreadsheetId=spreadsheet_id, ranges=[], includeGridData=False)\n",
    "    sheet_props = request.execute()\n",
    "    print(type(request))"
   ]
  },
  {
   "cell_type": "code",
   "execution_count": 9,
   "id": "63725ab2-5273-43e8-b82e-b35f2092b518",
   "metadata": {},
   "outputs": [],
   "source": [
    "if do_base:\n",
    "    print(sheet_props[\"properties\"][\"title\"])"
   ]
  },
  {
   "cell_type": "markdown",
   "id": "527a433f-9cce-4646-8ec4-b8d3f3cc7d1b",
   "metadata": {},
   "source": [
    "Not 100% obvious how to get a pandas dataframe from sheet_props.  Need to get the cells from the sheet, and put into a form amenable to pandas"
   ]
  },
  {
   "cell_type": "code",
   "execution_count": null,
   "id": "f076144b-336b-4f23-997a-89ef4b473b83",
   "metadata": {},
   "outputs": [],
   "source": []
  }
 ],
 "metadata": {
  "kernelspec": {
   "display_name": "Python 3 (ipykernel)",
   "language": "python",
   "name": "python3"
  },
  "language_info": {
   "codemirror_mode": {
    "name": "ipython",
    "version": 3
   },
   "file_extension": ".py",
   "mimetype": "text/x-python",
   "name": "python",
   "nbconvert_exporter": "python",
   "pygments_lexer": "ipython3",
   "version": "3.12.0"
  }
 },
 "nbformat": 4,
 "nbformat_minor": 5
}
